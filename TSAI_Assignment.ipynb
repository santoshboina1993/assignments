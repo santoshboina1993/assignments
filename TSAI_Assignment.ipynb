{
 "cells": [
  {
   "cell_type": "markdown",
   "metadata": {},
   "source": [
    "## 1. Write a function using only list filter lambda that can tell whether a number is a Fibonacci number or not. You can use a pre-calculated list/dict to store fab numbers till 10000"
   ]
  },
  {
   "cell_type": "code",
   "execution_count": 14,
   "metadata": {},
   "outputs": [],
   "source": [
    "def chk_fibonacci(test = list(range(10))):\n",
    "    '''\n",
    "    test : list or Integer or float\n",
    "    Returns\n",
    "    -------\n",
    "        Returns the list of fibonocci numbers in the list \n",
    "        Or\n",
    "        Returns if number is a fibonocci number or not\n",
    "    '''\n",
    "    fibonocci = [1,1]\n",
    "    while (sum(fibonocci[(len(fibonocci)-2):]))<10001:\n",
    "        fibonocci = fibonocci+[sum(fibonocci[(len(fibonocci)-2):])]\n",
    "    print(fibonocci)\n",
    "    if type(test)==list:\n",
    "        return list(filter(lambda x:x in fibonocci,test))\n",
    "    elif (type(test) == int)|(type(test) == float):\n",
    "        if test<10000:\n",
    "            return test in fibonocci\n",
    "        else:\n",
    "            return 'Value cannot be greater than 10000'"
   ]
  },
  {
   "cell_type": "markdown",
   "metadata": {},
   "source": [
    "## 2.1: add 2 iterables a and b such that a is even and b is odd"
   ]
  },
  {
   "cell_type": "code",
   "execution_count": 15,
   "metadata": {},
   "outputs": [],
   "source": [
    "def add_iter(a,b):\n",
    "    '''\n",
    "    a : List of integers\n",
    "    b : List of integers\n",
    "    '''\n",
    "    result = [x+y for x,y in zip(a,b) if (x%2==0)&(y%2==1)]\n",
    "    return result"
   ]
  },
  {
   "cell_type": "markdown",
   "metadata": {},
   "source": [
    "## 2.2: strips every vowel from a string provided (tsai>>t s)"
   ]
  },
  {
   "cell_type": "code",
   "execution_count": 16,
   "metadata": {},
   "outputs": [],
   "source": [
    "def strip_vowel(string):\n",
    "    '''\n",
    "    string : String or list of characters\n",
    "    '''\n",
    "    result = [i for i in string if i not in 'aeiouAEIOU']\n",
    "    return ''.join(result)"
   ]
  },
  {
   "cell_type": "markdown",
   "metadata": {},
   "source": [
    "## 2.3: acts like a ReLU function for a 1D array"
   ]
  },
  {
   "cell_type": "code",
   "execution_count": 17,
   "metadata": {},
   "outputs": [],
   "source": [
    "def relu_func(list_1d):\n",
    "    '''\n",
    "    list_1d : List of numbers.\n",
    "    '''\n",
    "    result = [x if x>0 else 0 for x in list_1d]\n",
    "    return result"
   ]
  },
  {
   "cell_type": "markdown",
   "metadata": {},
   "source": [
    "## 2.4: acts like a sigmoid function for a 1D array"
   ]
  },
  {
   "cell_type": "code",
   "execution_count": 18,
   "metadata": {},
   "outputs": [],
   "source": [
    "def sigmoid_func(list_1d):\n",
    "    result = [(1/(1+math.exp(i))) for i in list_1d]\n",
    "    return result"
   ]
  },
  {
   "cell_type": "markdown",
   "metadata": {},
   "source": [
    "## 2.5: takes a small character string and shifts all characters by 5 (handle boundary conditions) tsai>>yxfn"
   ]
  },
  {
   "cell_type": "code",
   "execution_count": 19,
   "metadata": {},
   "outputs": [],
   "source": [
    "def handle_boundary(string):\n",
    "    '''\n",
    "    string : String or list of characters\n",
    "    '''\n",
    "    chars = 'abcdefghijklmnopqrstuvwxyz'\n",
    "    newcs = 'fghijklmnopqrstuvwxyzabcde'\n",
    "    replace = dict(zip(chars,newcs))\n",
    "    result = ''.join([replace[i] for i in string])\n",
    "    return result"
   ]
  },
  {
   "cell_type": "markdown",
   "metadata": {},
   "source": [
    "## 3. A list comprehension expression that takes a ~200 word paragraph (write your own paragraph to check), and checks whether it has any of the swear words mentioned in \n",
    "https://github.com/RobertJGabriel/Google-profanity-words/blob/master/list.txt"
   ]
  },
  {
   "cell_type": "code",
   "execution_count": 20,
   "metadata": {},
   "outputs": [],
   "source": [
    "def check_profane(string):\n",
    "    '''\n",
    "    Parameters\n",
    "    ----------\n",
    "    string : text with more than one word\n",
    "    \n",
    "    Returns\n",
    "    -------\n",
    "    Existence of Profanity in the text\n",
    "    '''\n",
    "    words = pd.read_csv(r'Profanity.csv')\n",
    "    b_words = [i for i in words.Dictionary]\n",
    "   \n",
    "    string = string.split(' ')\n",
    "    new_string = [word for word in string if word in b_words]\n",
    "    if len(new_string)>0:\n",
    "        return 'Profanity is exists in string'\n",
    "    else:\n",
    "        return 'No Profanity found'"
   ]
  },
  {
   "cell_type": "markdown",
   "metadata": {},
   "source": [
    "## 4.1: add only even numbers in a list"
   ]
  },
  {
   "cell_type": "code",
   "execution_count": 21,
   "metadata": {},
   "outputs": [],
   "source": [
    "def add_even(l): \n",
    "    '''\n",
    "    Parameters\n",
    "    ----------\n",
    "    l : TYPE : list of numbers\n",
    "    Returns\n",
    "    -------\n",
    "    add only even numbers in a list\n",
    "    '''\n",
    "    return reduce(lambda a,b: a+b if b%2==0 else a+0,l,0)"
   ]
  },
  {
   "cell_type": "markdown",
   "metadata": {},
   "source": [
    "## 4.2: find the biggest character in a string (printable ascii characters)"
   ]
  },
  {
   "cell_type": "code",
   "execution_count": 22,
   "metadata": {},
   "outputs": [],
   "source": [
    "def biggest_char(l):\n",
    "    '''\n",
    "    Parameters\n",
    "    ----------\n",
    "    l : TYPE : string\n",
    "    Returns\n",
    "    -------\n",
    "    the biggest character in a string (printable ascii characters)\n",
    "    '''\n",
    "    return reduce(lambda a,b: a if ord(a)>ord(b) else b,l)"
   ]
  },
  {
   "cell_type": "markdown",
   "metadata": {},
   "source": [
    "## 4.3: adds every 3rd number in a list"
   ]
  },
  {
   "cell_type": "code",
   "execution_count": 23,
   "metadata": {},
   "outputs": [],
   "source": [
    "def add_third(l):\n",
    "    '''\n",
    "    Parameters\n",
    "    ----------\n",
    "    l : TYPE : list of numbers\n",
    "    Returns\n",
    "    -------\n",
    "    adds every 3rd number in a list\n",
    "    '''\n",
    "    return reduce(lambda a,b: a+l[b] if (b+1)%3==0 else a+0,list(range(len(l))),0)"
   ]
  },
  {
   "cell_type": "markdown",
   "metadata": {},
   "source": [
    "## 5. Using randint, random.choice and list comprehensions, write an expression that generates 15 random KADDAADDDD number plates, where KA is fixed, D stands for a digit, and A stands for Capital alphabets. 10<<DD<<99 & 1000<<DDDD<<9999"
   ]
  },
  {
   "cell_type": "code",
   "execution_count": 24,
   "metadata": {},
   "outputs": [],
   "source": [
    "def numberplate_generator():\n",
    "    '''\n",
    "    Returns\n",
    "    -------\n",
    "    result : List of Strings\n",
    "    '''\n",
    "    chars = dict(zip(list(range(1,27)),'abcdefghijklmnopqrstuvwxyz'.upper()))\n",
    "    result = ['KA'+\n",
    "              str(random.randint(10,99))+\n",
    "              chars[random.randint(1,26)]+chars[random.randint(1,26)]+\n",
    "              str(random.randint(1000,9999)) for _ in range(15)]\n",
    "    return result"
   ]
  },
  {
   "cell_type": "markdown",
   "metadata": {},
   "source": [
    "## 6. Write the above again from scratch where KA can be changed to DL, and 1000/9999 ranges can be provided. "
   ]
  },
  {
   "cell_type": "code",
   "execution_count": 25,
   "metadata": {},
   "outputs": [],
   "source": [
    "def numberplate_generator2(state = 'KA',min_ = 1000,max_ = 9999):\n",
    "    chars = dict(zip(list(range(1,27)),'abcdefghijklmnopqrstuvwxyz'.upper()))\n",
    "    result = [state+\n",
    "              str(random.randint(10,99))+\n",
    "              chars[random.randint(1,26)]+chars[random.randint(1,26)]+\n",
    "              str(random.randint(min_,max_)) for _ in range(15)]\n",
    "    return result"
   ]
  },
  {
   "cell_type": "code",
   "execution_count": null,
   "metadata": {},
   "outputs": [],
   "source": []
  }
 ],
 "metadata": {
  "kernelspec": {
   "display_name": "Python 3",
   "language": "python",
   "name": "python3"
  },
  "language_info": {
   "codemirror_mode": {
    "name": "ipython",
    "version": 3
   },
   "file_extension": ".py",
   "mimetype": "text/x-python",
   "name": "python",
   "nbconvert_exporter": "python",
   "pygments_lexer": "ipython3",
   "version": "3.7.4"
  }
 },
 "nbformat": 4,
 "nbformat_minor": 2
}
